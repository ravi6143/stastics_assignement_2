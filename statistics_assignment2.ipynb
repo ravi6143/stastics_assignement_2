{
 "cells": [
  {
   "cell_type": "markdown",
   "id": "2cc418c0-ff98-4869-b4bc-910b99f6a8b4",
   "metadata": {},
   "source": [
    "# Question -1\n",
    "ans - "
   ]
  },
  {
   "cell_type": "markdown",
   "id": "e9634097-12e8-4df9-a3af-9afd2890bced",
   "metadata": {},
   "source": [
    "The three measures of central tendency are:\n",
    "\n",
    "1. Mean: The mean, also known as the average, is calculated by adding up all the values in a dataset and then dividing by the total number of values. It represents the \"center\" of the data distribution.\n",
    "\n",
    "2. Median: The median is the middle value of a dataset when the values are arranged in ascending or descending order. It's not influenced by extreme values and provides a robust measure of central tendency.\n",
    "\n",
    "3. Mode: The mode is the value that appears most frequently in a dataset. It's the most common value and can be useful for identifying the most frequent outcome or category."
   ]
  },
  {
   "cell_type": "code",
   "execution_count": null,
   "id": "afc8fb28-310a-4d51-a03f-e51c1c74e293",
   "metadata": {},
   "outputs": [],
   "source": []
  },
  {
   "cell_type": "code",
   "execution_count": null,
   "id": "8a87b3ca-fe04-4732-ac0f-352f2d0ca203",
   "metadata": {},
   "outputs": [],
   "source": []
  },
  {
   "cell_type": "code",
   "execution_count": null,
   "id": "3bfcf76a-8c3f-4ec2-bf5b-5bb12516d642",
   "metadata": {},
   "outputs": [],
   "source": []
  },
  {
   "cell_type": "markdown",
   "id": "5adf9cc5-89e9-4904-bdb4-1e8f9715dd49",
   "metadata": {},
   "source": [
    "# Question - 2\n",
    "ans - "
   ]
  },
  {
   "cell_type": "markdown",
   "id": "d39f7a04-dad9-42f0-b2b7-70802cae9a61",
   "metadata": {},
   "source": [
    "*Mean:\n",
    "\n",
    "(1).The mean is calculated by adding up all the values in the dataset and then dividing by the total number of values.\n",
    "\n",
    "(2).It is influenced by every data point and can be sensitive to outliers or extreme values.\n",
    "Mathematically, the mean is the balancing point of the data distribution.\n",
    "\n",
    "(3.)It's the most commonly used measure of central tendency.\n",
    "\n",
    "(4).Formula: Mean = (Sum of all values) / (Number of values).\n",
    "\n",
    "\n",
    "*Median:\n",
    "\n",
    "(1). The median is the middle value of a dataset when the values are arranged in order.\n",
    "\n",
    "(2).It's not influenced by outliers and provides a more robust measure of central tendency.\n",
    "\n",
    "(3).If the dataset has an odd number of values, the median is the middle value. If it has an even number of values, the median is the average of the two middle values.\n",
    "\n",
    "(4).The median is especially useful when dealing with skewed distributions or when there are extreme values.\n",
    "\n",
    "(5).It's less affected by outliers than the mean.\n",
    "\n",
    "(6).To find the median, you sort the data and locate the middle value.\n",
    "\n",
    "\n",
    "*Mode:\n",
    "\n",
    "\n",
    "(1).The mode is the value that appears most frequently in a dataset.\n",
    "\n",
    "(2).It can be useful for identifying the most common outcome or category.\n",
    "\n",
    "(3).A dataset can have one mode (unimodal), two modes (bimodal), or more (multimodal).\n",
    "\n",
    "(4).In some cases, a dataset may not have a clear mode if no value appears more frequently than others.\n",
    "\n",
    "(5).The mode is particularly relevant for categorical data and nominal variables.\n",
    "\n",
    "\n",
    "**How They Measure Central Tendency:\n",
    "\n",
    "1. Mean: The mean provides a balanced \"average\" value, considering all data points. It's suitable when you want a representative value that takes into account the contributions of all observations.\n",
    "\n",
    "\n",
    "2. Median: The median gives the middle value of the dataset, making it ideal for datasets with skewed distributions or potential outliers. It's less affected by extreme values.\n",
    "\n",
    "\n",
    "3. Mode: The mode identifies the most common value or category, making it useful for understanding the most frequent outcome."
   ]
  },
  {
   "cell_type": "code",
   "execution_count": null,
   "id": "f6f99b4a-9f94-4682-9ebb-a2dab16be38c",
   "metadata": {},
   "outputs": [],
   "source": []
  },
  {
   "cell_type": "code",
   "execution_count": null,
   "id": "8bf49709-ef75-4ac4-ab24-b3903ca3fd68",
   "metadata": {},
   "outputs": [],
   "source": []
  },
  {
   "cell_type": "code",
   "execution_count": null,
   "id": "43e3d8cb-5c89-4bd6-9d9f-dd2fcfb8814f",
   "metadata": {},
   "outputs": [],
   "source": []
  },
  {
   "cell_type": "markdown",
   "id": "58717b5a-551f-4994-83f2-54ff777288f3",
   "metadata": {},
   "source": [
    "# Question - 3\n",
    "ans - "
   ]
  },
  {
   "cell_type": "code",
   "execution_count": 1,
   "id": "950440be-0ccb-4bf3-8970-d5fd16e72e43",
   "metadata": {},
   "outputs": [
    {
     "data": {
      "text/plain": [
       "177.01875"
      ]
     },
     "execution_count": 1,
     "metadata": {},
     "output_type": "execute_result"
    }
   ],
   "source": [
    "data = [178,177,176,177,178.2,178,175,179,180,175,178.9,176.2,177,172.5,178,176.5]\n",
    "\n",
    "# Mean : \n",
    "\n",
    "import numpy as np\n",
    "\n",
    "np.mean(data)"
   ]
  },
  {
   "cell_type": "code",
   "execution_count": 2,
   "id": "61953907-db50-4721-824d-d2fb6a82997c",
   "metadata": {},
   "outputs": [
    {
     "data": {
      "text/plain": [
       "177.0"
      ]
     },
     "execution_count": 2,
     "metadata": {},
     "output_type": "execute_result"
    }
   ],
   "source": [
    "## Median :\n",
    "\n",
    "np.median(data)"
   ]
  },
  {
   "cell_type": "code",
   "execution_count": 5,
   "id": "714bb855-41fc-49e0-a0d6-cb4ea0f26714",
   "metadata": {},
   "outputs": [
    {
     "name": "stderr",
     "output_type": "stream",
     "text": [
      "/tmp/ipykernel_861/3275197251.py:5: FutureWarning: Unlike other reduction functions (e.g. `skew`, `kurtosis`), the default behavior of `mode` typically preserves the axis it acts along. In SciPy 1.11.0, this behavior will change: the default value of `keepdims` will become False, the `axis` over which the statistic is taken will be eliminated, and the value None will no longer be accepted. Set `keepdims` to True or False to avoid this warning.\n",
      "  mode = stats.mode(data)\n"
     ]
    }
   ],
   "source": [
    "## Mode :\n",
    " \n",
    "from scipy import stats\n",
    "\n",
    "mode = stats.mode(data)\n"
   ]
  },
  {
   "cell_type": "code",
   "execution_count": 6,
   "id": "902d43bc-a4ac-476c-b03e-2e98cee7a159",
   "metadata": {},
   "outputs": [
    {
     "data": {
      "text/plain": [
       "ModeResult(mode=array([177.]), count=array([3]))"
      ]
     },
     "execution_count": 6,
     "metadata": {},
     "output_type": "execute_result"
    }
   ],
   "source": [
    "mode"
   ]
  },
  {
   "cell_type": "code",
   "execution_count": null,
   "id": "198a2a68-cea8-4bb9-8f98-352a90e5d209",
   "metadata": {},
   "outputs": [],
   "source": []
  },
  {
   "cell_type": "code",
   "execution_count": null,
   "id": "c13ed3d7-e4a4-4178-9f16-9b9690744e60",
   "metadata": {},
   "outputs": [],
   "source": []
  },
  {
   "cell_type": "code",
   "execution_count": null,
   "id": "dc341371-2df6-4659-9489-902fbdcd85c7",
   "metadata": {},
   "outputs": [],
   "source": []
  },
  {
   "cell_type": "markdown",
   "id": "423f504b-9bfe-4c6d-a55e-ed6dcc03e9ef",
   "metadata": {},
   "source": [
    "# Question - 4\n",
    "ans - "
   ]
  },
  {
   "cell_type": "code",
   "execution_count": 10,
   "id": "3c250897-4b04-4a2d-8c76-20a8027f8efa",
   "metadata": {},
   "outputs": [
    {
     "data": {
      "text/plain": [
       "1.7885814036548633"
      ]
     },
     "execution_count": 10,
     "metadata": {},
     "output_type": "execute_result"
    }
   ],
   "source": [
    "data1= [178,177,176,177,178.2,178,175,179,180,175,178.9,176.2,177,172.5,178,176.5]\n",
    "\n",
    "import numpy as np\n",
    "\n",
    "np.std(data1)"
   ]
  },
  {
   "cell_type": "code",
   "execution_count": null,
   "id": "0167c63e-c1cc-4d09-a16c-fdc41436c479",
   "metadata": {},
   "outputs": [],
   "source": []
  },
  {
   "cell_type": "code",
   "execution_count": null,
   "id": "f139b68b-0926-408b-bc3d-639cfac43353",
   "metadata": {},
   "outputs": [],
   "source": []
  },
  {
   "cell_type": "markdown",
   "id": "5da0db43-f331-4725-9d8e-b6fd3d6d3c8e",
   "metadata": {},
   "source": []
  },
  {
   "cell_type": "markdown",
   "id": "c77c6739-ba2d-485e-9651-61709ff018fd",
   "metadata": {},
   "source": [
    "# Question - 5\n",
    "ans - "
   ]
  },
  {
   "cell_type": "markdown",
   "id": "60437375-4e64-4d21-be20-a8d561bd8cb0",
   "metadata": {},
   "source": [
    "1. Range:\n",
    "The range is the simplest measure of dispersion. It's the difference between the maximum and minimum values in a dataset. It gives an idea of the total extent of the data from the lowest to the highest value.\n",
    "\n",
    "Example:\n",
    "Consider the following ages of a group of individuals: [25, 30, 22, 28, 32, 27, 24]. The range is calculated as follows:\n",
    "Range = Maximum Age - Minimum Age = 32 - 22 = 10 years\n",
    "\n",
    "2. Variance:\n",
    "Variance measures how much individual data points deviate from the mean of the dataset. It quantifies the average squared difference between each data point and the mean. A higher variance indicates greater variability.\n",
    "\n",
    "Example:\n",
    "Using the same age dataset: [25, 30, 22, 28, 32, 27, 24], the mean is (25 + 30 + 22 + 28 + 32 + 27 + 24) / 7 = 27.14. The variance is calculated as follows:\n",
    "Variance = ((25 - 27.14)^2 + (30 - 27.14)^2 + ... + (24 - 27.14)^2) / 7 ≈ 10.95\n",
    "\n",
    "3. Standard Deviation:\n",
    "The standard deviation is the square root of the variance. It measures the average distance of data points from the mean. A higher standard deviation indicates greater variability.\n",
    "\n",
    "Example:\n",
    "Continuing from the previous example, the standard deviation is the square root of the variance:\n",
    "Standard Deviation = √Variance ≈ √10.95 ≈ 3.31"
   ]
  },
  {
   "cell_type": "code",
   "execution_count": null,
   "id": "fdba8ac6-69d1-4945-99b8-76f084b23607",
   "metadata": {},
   "outputs": [],
   "source": []
  },
  {
   "cell_type": "code",
   "execution_count": null,
   "id": "f465d816-b12d-4a77-a063-26f670dd37d4",
   "metadata": {},
   "outputs": [],
   "source": []
  },
  {
   "cell_type": "code",
   "execution_count": null,
   "id": "237c9501-aac0-455b-a57d-419b08c4bb94",
   "metadata": {},
   "outputs": [],
   "source": []
  },
  {
   "cell_type": "markdown",
   "id": "4c265696-089b-4262-8f51-03069545c310",
   "metadata": {},
   "source": [
    "# Question- 6\n",
    "ans - "
   ]
  },
  {
   "cell_type": "markdown",
   "id": "d95b67b3-9cff-45fd-8509-607865cd6196",
   "metadata": {},
   "source": [
    "A Venn diagram is a visual representation used to show the relationships between different sets or groups of objects. It uses overlapping circles or other shapes to depict how the elements within different sets are related to one another. Venn diagrams are often used to illustrate concepts of set theory, logic, and relationships among various categories or attributes.\n",
    "\n",
    "Key features of a Venn diagram include:\n",
    "\n",
    "1. Circles or Shapes: Each circle or shape in the diagram represents a set or category. The elements of the set are represented by points within the circle.\n",
    "\n",
    "2. Overlapping Areas: The overlapping regions of the circles show the intersections or common elements between sets. These intersections illustrate relationships between the sets being compared.\n",
    "\n",
    "3. Non-Overlapping Areas: The non-overlapping regions of the circles represent the unique elements that belong to each set but not to any of the other sets."
   ]
  },
  {
   "cell_type": "code",
   "execution_count": null,
   "id": "18dbe070-ba7e-4b35-949a-cd87656aa06e",
   "metadata": {},
   "outputs": [],
   "source": []
  },
  {
   "cell_type": "code",
   "execution_count": null,
   "id": "c3eacd95-00c6-43da-ab14-effc46edbe72",
   "metadata": {},
   "outputs": [],
   "source": []
  },
  {
   "cell_type": "code",
   "execution_count": null,
   "id": "0c9bc6c8-448c-40be-baa7-70edf700c4ec",
   "metadata": {},
   "outputs": [],
   "source": []
  },
  {
   "cell_type": "markdown",
   "id": "9609e575-b291-44fd-93fb-070e6d7a2b88",
   "metadata": {},
   "source": [
    "# Question - 7\n",
    "ans - "
   ]
  },
  {
   "cell_type": "code",
   "execution_count": 15,
   "id": "fa77a5d3-d555-46cd-ac48-e185aa43bffb",
   "metadata": {},
   "outputs": [
    {
     "data": {
      "text/plain": [
       "{2, 6}"
      ]
     },
     "execution_count": 15,
     "metadata": {},
     "output_type": "execute_result"
    }
   ],
   "source": [
    "A = {2,3,4,5,6,7}\n",
    "\n",
    "B = {0,2,6,8,10}\n",
    "\n",
    "## Intersection\n",
    "A.intersection(B)\n",
    "\n",
    "\n"
   ]
  },
  {
   "cell_type": "code",
   "execution_count": 16,
   "id": "7b5ae058-8c2c-4954-9ca0-44badbd3a0f3",
   "metadata": {},
   "outputs": [
    {
     "data": {
      "text/plain": [
       "{0, 2, 3, 4, 5, 6, 7, 8, 10}"
      ]
     },
     "execution_count": 16,
     "metadata": {},
     "output_type": "execute_result"
    }
   ],
   "source": [
    "## Union \n",
    "\n",
    "A.union(B)"
   ]
  },
  {
   "cell_type": "code",
   "execution_count": null,
   "id": "1f3da25b-8681-42d5-a966-598b5d29f361",
   "metadata": {},
   "outputs": [],
   "source": []
  },
  {
   "cell_type": "code",
   "execution_count": null,
   "id": "b9b9e6ad-b244-4798-9dd2-ce0b68bb80f5",
   "metadata": {},
   "outputs": [],
   "source": []
  },
  {
   "cell_type": "markdown",
   "id": "9894aa9d-7a59-4701-a48d-7af196ef03af",
   "metadata": {},
   "source": [
    "# Question - 8\n",
    "ans - "
   ]
  },
  {
   "cell_type": "markdown",
   "id": "39967599-ac7e-43d7-be1f-320fd2a33da9",
   "metadata": {},
   "source": [
    "Skewness is a statistical measure that describes the asymmetry of the probability distribution of a dataset. It indicates the degree to which the data is skewed (lopsided) towards one tail of the distribution. Skewness is an important concept in data analysis as it provides insights into the shape and characteristics of the distribution.\n",
    "\n",
    "**There are two main types of skewness:\n",
    "\n",
    "1. Positive Skewness (Right Skewness): In a positively skewed distribution, the tail on the right side of the distribution is longer or \"stretched out.\" This means that there are relatively more low values on the left side and a few extremely high values on the right side. The mean is typically greater than the median in a positively skewed distribution.\n",
    "\n",
    "2. Negative Skewness (Left Skewness): In a negatively skewed distribution, the tail on the left side of the distribution is longer or \"stretched out.\" This indicates that there are more high values on the left side and fewer extreme low values on the right side. The mean is generally less than the median in a negatively skewed distribution.\n",
    "\n",
    "Here's how to interpret skewness:\n",
    "\n",
    "If skewness is close to 0, the distribution is approximately symmetric.\n",
    "\n",
    "If skewness is positive, the distribution is positively skewed (tail on the right).\n",
    "\n",
    "If skewness is negative, the distribution is negatively skewed (tail on the left)."
   ]
  },
  {
   "cell_type": "code",
   "execution_count": null,
   "id": "a2b0d620-db6e-4f05-ba56-c1b54da8efea",
   "metadata": {},
   "outputs": [],
   "source": []
  },
  {
   "cell_type": "code",
   "execution_count": null,
   "id": "85e09672-22e7-41a2-86fb-13e3675a41a0",
   "metadata": {},
   "outputs": [],
   "source": []
  },
  {
   "cell_type": "markdown",
   "id": "a4f4badb-886a-4be1-873c-533df10f29ed",
   "metadata": {},
   "source": [
    "# Question - 9\n",
    "ans - "
   ]
  },
  {
   "cell_type": "markdown",
   "id": "a32f2801-f4ed-4608-8df1-c8a3bcc31fba",
   "metadata": {},
   "source": [
    "(). Median: The median is typically less than the mean in a right-skewed distribution.\n",
    "\n",
    "(). Mean: The mean is usually greater than the median and is pulled to the right by the presence of the few extremely high values on the right side of the distribution."
   ]
  },
  {
   "cell_type": "code",
   "execution_count": null,
   "id": "00a9ae26-d900-4332-97e7-fea71c6bcfbf",
   "metadata": {},
   "outputs": [],
   "source": []
  },
  {
   "cell_type": "code",
   "execution_count": null,
   "id": "0ea385a3-5995-40f3-a309-7a6ca146cf9a",
   "metadata": {},
   "outputs": [],
   "source": []
  },
  {
   "cell_type": "markdown",
   "id": "9d8ad24f-ecee-4813-aeb3-0065d2ffcc1c",
   "metadata": {},
   "source": [
    "# Question -10 \n",
    " ans - "
   ]
  },
  {
   "cell_type": "markdown",
   "id": "3cccad4d-2089-47c5-bf2d-4d1a324d9ca6",
   "metadata": {},
   "source": [
    "-- Covariance:\n",
    "\n",
    "(i). Covariance measures the degree to which two variables change together. It indicates whether an increase in one variable is associated with an increase or decrease in another variable.\n",
    "\n",
    "(ii). It can take positive, negative, or zero values. A positive covariance indicates that the variables tend to increase together, a negative covariance indicates that one variable tends to decrease as the other increases, and a covariance of zero indicates no linear relationship.\n",
    "\n",
    "(iii). Covariance is affected by the units of measurement of the variables and can be difficult to interpret without context.\n",
    "The formula for covariance between two variables X and Y is:\n",
    "Cov(X, Y) = Σ[(Xᵢ - X̄)(Yᵢ - Ȳ)] / (n - 1), where X̄ and Ȳ are the means of X and Y, and n is the number of observations.\n",
    "\n",
    "\n",
    "\n",
    "-- Correlation:\n",
    "\n",
    "(i). Correlation is a standardized measure that quantifies the strength and direction of the linear relationship between two variables. It always ranges between -1 and 1.\n",
    "\n",
    "(ii). Correlation is unitless and doesn't depend on the scale of measurement of the variables. It provides a more interpretable measure of the strength of the relationship than covariance.\n",
    "\n",
    "(iii). A positive correlation close to 1 indicates a strong positive linear relationship, a negative correlation close to -1 indicates a strong negative linear relationship, and a correlation close to 0 indicates a weak or no linear relationship.\n",
    "\n",
    "The Pearson correlation coefficient is commonly used and is calculated using the formula:\n",
    "Cor(X, Y) = Cov(X, Y) / (σX * σY), where σX and σY are the standard deviations of X and Y.\n",
    "\n",
    "\n",
    "##.Usage in Statistical Analysis:\n",
    "\n",
    "Covariance and correlation are used to understand the relationship between two variables in a dataset:\n",
    "\n",
    "**. Covariance: Covariance is used to determine whether changes in one variable are associated with changes in another variable. Positive covariance suggests a positive relationship, negative covariance suggests a negative relationship, and zero covariance suggests no linear relationship. However, interpreting the magnitude of covariance can be challenging due to unit differences.\n",
    "\n",
    "**. Correlation: Correlation provides a standardized measure of the strength and direction of the linear relationship between variables. It's used to assess the degree to which variables move together. Correlation allows for easier comparison between different pairs of variables since it's unitless. Correlation is extensively used in various fields, such as finance, economics, and science, to analyze patterns, make predictions, and select variables for modeling."
   ]
  },
  {
   "cell_type": "code",
   "execution_count": null,
   "id": "91734cc1-7266-4bc6-9327-54fc58205cda",
   "metadata": {},
   "outputs": [],
   "source": []
  },
  {
   "cell_type": "code",
   "execution_count": null,
   "id": "01ff83ca-5068-4793-95cc-773339c324fd",
   "metadata": {},
   "outputs": [],
   "source": []
  },
  {
   "cell_type": "code",
   "execution_count": null,
   "id": "3993a69e-ba87-4fc2-838a-0869e629734e",
   "metadata": {},
   "outputs": [],
   "source": []
  },
  {
   "cell_type": "markdown",
   "id": "5d0c0b29-6674-40a2-86ad-f587fbd804a9",
   "metadata": {},
   "source": [
    "# Question - 11\n",
    "ans - "
   ]
  },
  {
   "cell_type": "markdown",
   "id": "35fff503-70b9-4ceb-be61-57093922d429",
   "metadata": {},
   "source": [
    "Sample Mean (x̄) = (Sum of all data points) / (Number of data points)\n",
    "\n",
    "Example -:"
   ]
  },
  {
   "cell_type": "code",
   "execution_count": 4,
   "id": "13e372f8-3244-42d5-b592-8bc18778fdbb",
   "metadata": {},
   "outputs": [
    {
     "data": {
      "text/plain": [
       "27.923076923076923"
      ]
     },
     "execution_count": 4,
     "metadata": {},
     "output_type": "execute_result"
    }
   ],
   "source": [
    "data = [22,24,28,32,37,34,42,19,17,26,30,21,31]\n",
    "\n",
    "import numpy as np\n",
    "sum_of_data= np.sum(data)\n",
    "number_of_datapoints = len(data)\n",
    "\n",
    "sample_mean=  sum_of_data/number_of_datapoints\n",
    "\n",
    "sample_mean"
   ]
  },
  {
   "cell_type": "code",
   "execution_count": null,
   "id": "3d46164a-98c5-4f13-a623-057df81768ba",
   "metadata": {},
   "outputs": [],
   "source": []
  },
  {
   "cell_type": "code",
   "execution_count": null,
   "id": "b778ec76-a772-4071-bbe6-f0a806b3b94f",
   "metadata": {},
   "outputs": [],
   "source": []
  },
  {
   "cell_type": "code",
   "execution_count": null,
   "id": "e80a3575-94ee-48a4-9bd5-526a5379d226",
   "metadata": {},
   "outputs": [],
   "source": []
  },
  {
   "cell_type": "markdown",
   "id": "81fcf6dc-4938-4e27-ae89-d93d5333bdb1",
   "metadata": {},
   "source": [
    "# Question - 12\n",
    "ans - "
   ]
  },
  {
   "cell_type": "markdown",
   "id": "3b6a57d5-589c-443f-8e42-f26e2fbad2fd",
   "metadata": {},
   "source": [
    "In a normal distribution:\n",
    "\n",
    "(i). Mean: The mean is located at the center of the distribution, and it's equal to the median and mode. This means that the sum of all data points divided by the number of data points results in a value that corresponds to the peak of the distribution.\n",
    "\n",
    "(ii). Median: The median, being the middle value of the dataset, is also located at the center of the distribution in a normal distribution. It's equal to the mean and mode.\n",
    "\n",
    "(iii). Mode: The mode is the value that appears most frequently, and in a normal distribution, every value has the same frequency. Therefore, all values in the distribution are modes. This means that there is not a single mode but rather a mode for every value.\n",
    "\n",
    "The relationship between the three measures of central tendency being equal in a normal distribution contributes to its symmetric, bell-shaped appearance. This symmetry is a key characteristic of the normal distribution and has important implications for statistical analysis and inference."
   ]
  },
  {
   "cell_type": "code",
   "execution_count": null,
   "id": "c7b2d1fc-47ef-4172-a8ef-e38a883502ad",
   "metadata": {},
   "outputs": [],
   "source": []
  },
  {
   "cell_type": "code",
   "execution_count": null,
   "id": "bc0391de-7c54-43a2-bc51-2efddef6bcb3",
   "metadata": {},
   "outputs": [],
   "source": []
  },
  {
   "cell_type": "code",
   "execution_count": null,
   "id": "f49dcd5f-3c7f-4d77-9e11-d31a9f37eede",
   "metadata": {},
   "outputs": [],
   "source": []
  },
  {
   "cell_type": "markdown",
   "id": "fe9b5153-d5df-49bb-94e2-8efa4d0a7073",
   "metadata": {},
   "source": [
    "# Question - 13\n",
    "ans - "
   ]
  },
  {
   "cell_type": "markdown",
   "id": "0edebd03-0df8-469e-bb45-57bab01099bd",
   "metadata": {},
   "source": [
    "Covariance:\n",
    "\n",
    "(i). Covariance is a measure of the extent to which two variables change together. It indicates the direction of the linear relationship between the variables.\n",
    "\n",
    "(ii). It can take on any value, positive, negative, or zero.\n",
    "\n",
    "(iii). The magnitude of covariance isn't standardized, so it can be difficult to interpret. It doesn't indicate the strength or degree of the relationship between variables.\n",
    "\n",
    "\n",
    "Correlation:\n",
    "\n",
    "(i). Correlation is a standardized measure of the linear relationship between two variables. It provides a value between -1 and 1, which represents the strength and direction of the relationship.\n",
    "\n",
    "(ii). Correlation is unitless and always falls within the range [-1, 1], making it easier to interpret than covariance.\n",
    "\n",
    "(iii). A correlation close to 1 indicates a strong positive linear relationship, a correlation close to -1 indicates a strong negative linear relationship, and a correlation close to 0 indicates a weak or no linear relationship.\n",
    "\n",
    "\n",
    "\n",
    "In summary, covariance provides information about the direction of the linear relationship between two variables, but its magnitude can be difficult to interpret. Correlation, on the other hand, standardizes the measure, making it easier to understand the strength and direction of the relationship between the variables."
   ]
  },
  {
   "cell_type": "code",
   "execution_count": null,
   "id": "3008da0b-874a-4df4-971a-c196ed0c3f84",
   "metadata": {},
   "outputs": [],
   "source": []
  },
  {
   "cell_type": "markdown",
   "id": "2960d144-d7b4-4a99-9bfc-76ab9e9aa0e6",
   "metadata": {},
   "source": []
  },
  {
   "cell_type": "code",
   "execution_count": null,
   "id": "3f7e9d70-81f3-4b95-bfc8-d1e8977cbaf5",
   "metadata": {},
   "outputs": [],
   "source": []
  },
  {
   "cell_type": "markdown",
   "id": "e2095e82-c359-46e9-aae6-eb8c9d52e5e3",
   "metadata": {},
   "source": [
    "# Question - 14\n",
    "ans - "
   ]
  },
  {
   "cell_type": "markdown",
   "id": "d3e8e69d-de85-4202-9553-0dcbe8f1846e",
   "metadata": {},
   "source": [
    "Outliers can significantly impact measures of central tendency (such as the mean, median, and mode) and measures of dispersion (such as the range, variance, and standard deviation) in a dataset. An outlier is an observation that is far removed from the rest of the data points and may not follow the same pattern as the majority of the data.\n",
    "\n",
    "## Measures of Central Tendency:\n",
    "\n",
    "(i).Mean: Outliers can heavily skew the mean. A single extreme value can pull the mean towards it, making it no longer representative of the majority of the data.\n",
    "\n",
    "(ii).Median: The median is less affected by outliers because it's the middle value when the data is ordered. Outliers have less influence on the median than on the mean.\n",
    "\n",
    "(iii).Mode: The mode represents the most frequent value in a dataset. Outliers may not have a significant impact on the mode, unless they are extremely frequent.\n",
    "\n",
    "## Measures of Dispersion:\n",
    "\n",
    "(i).Range: Outliers can greatly expand the range of the data, making it a less useful measure of variability.\n",
    "\n",
    "(ii).Variance and Standard Deviation: Outliers can inflate the variance and standard deviation, as these measures consider the squared differences from the mean. Since outliers are typically far from the mean, their squared differences can become very large.\n",
    "\n",
    "\n",
    "\n",
    "Examples-:"
   ]
  },
  {
   "cell_type": "code",
   "execution_count": 15,
   "id": "0e03ce5a-2579-4178-80e3-6d3b977be102",
   "metadata": {},
   "outputs": [
    {
     "name": "stdout",
     "output_type": "stream",
     "text": [
      "mean 48.90909090909091\n",
      "median 34.0\n",
      "mode ModeResult(mode=array([25]), count=array([1]))\n",
      "range 175\n",
      "variance 2326.9917355371904\n",
      "std 48.238902719041924\n"
     ]
    }
   ],
   "source": [
    "data = [25,30,26,27,31,34,35,42,43,45,200]\n",
    "\n",
    "import numpy as np\n",
    "\n",
    "from scipy import stats\n",
    "\n",
    "data_mean = np.mean(data)\n",
    "\n",
    "data_median = np.median(data)\n",
    "\n",
    "data_mode = stats.mode(data, keepdims = True)\n",
    "\n",
    "data_range = max(data) - min(data)\n",
    "\n",
    "data_variance = np.var(data)\n",
    "\n",
    "data_std = np.std(data)\n",
    "\n",
    "\n",
    "print('mean', data_mean)\n",
    "print('median', data_median)\n",
    "print('mode' , data_mode)\n",
    "print('range', data_range)\n",
    "print('variance', data_variance)\n",
    "print('std', data_std)\n"
   ]
  },
  {
   "cell_type": "code",
   "execution_count": null,
   "id": "7343ea83-db98-4522-8ff3-cf3bfd4d2b52",
   "metadata": {},
   "outputs": [],
   "source": []
  }
 ],
 "metadata": {
  "kernelspec": {
   "display_name": "Python 3 (ipykernel)",
   "language": "python",
   "name": "python3"
  },
  "language_info": {
   "codemirror_mode": {
    "name": "ipython",
    "version": 3
   },
   "file_extension": ".py",
   "mimetype": "text/x-python",
   "name": "python",
   "nbconvert_exporter": "python",
   "pygments_lexer": "ipython3",
   "version": "3.10.8"
  }
 },
 "nbformat": 4,
 "nbformat_minor": 5
}
